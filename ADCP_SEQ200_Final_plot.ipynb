{
 "cells": [
  {
   "cell_type": "code",
   "execution_count": 51,
   "metadata": {},
   "outputs": [],
   "source": [
    "# block 1: import all important libraries\n",
    "\n",
    "%matplotlib inline\n",
    "from netCDF4 import Dataset\n",
    "from netCDF4 import num2date\n",
    "from matplotlib.pyplot import figure, pcolor, colorbar, xlabel, ylabel, title, draw, quiver, show\n",
    "import numpy as np\n",
    "import matplotlib.pyplot as plt \n",
    "import scipy.io as sio\n",
    "import pandas as pd\n",
    "import numpy as np\n",
    "import numpy.ma as ma\n",
    "from math import sqrt "
   ]
  },
  {
   "cell_type": "code",
   "execution_count": 52,
   "metadata": {},
   "outputs": [],
   "source": [
    "# block 2: Import the used data file and create a variable with the data in the file\n",
    "\n",
    "data = \"/home/z3525831/Data/IMOS_ANMN-NRS_AETVZ_20120325T002056Z_SEQ200-SubSurface_FV01_SEQ200-SubSurface-120325-Workhorse-ADCP-110_END-20130606T202300Z_C-20131119T020203Z.nc\"\n",
    "ADCP200 = Dataset(data)  "
   ]
  },
  {
   "cell_type": "code",
   "execution_count": 53,
   "metadata": {},
   "outputs": [],
   "source": [
    "# block 3: Extracting the U/V/lat/long/time/H_B_S/qc data from the import file and assigns them to a variable\n",
    "\n",
    "#basic data \n",
    "LAT = ADCP200.variables['LATITUDE']\n",
    "LON = ADCP200.variables['LONGITUDE']\n",
    "TIMES = ADCP200.variables['TIME']\n",
    "DEPTH = ADCP200.variables['DEPTH']\n",
    "V = ADCP200.variables['VCUR']\n",
    "U = ADCP200.variables['UCUR']\n",
    "W = ADCP200.variables['WCUR']\n",
    "Wheight = ADCP200.variables['HEIGHT_ABOVE_SENSOR']\n",
    "\n",
    "#quality control\n",
    "hasqc = ADCP200.variables['HEIGHT_ABOVE_SENSOR_quality_control']\n",
    "Vqc = ADCP200.variables['VCUR_quality_control']\n",
    "Uqc = ADCP200.variables['UCUR_quality_control']\n",
    "Dqc = ADCP200.variables['DEPTH_quality_control']\n",
    "tqc = ADCP200.variables['TIME_quality_control']"
   ]
  },
  {
   "cell_type": "code",
   "execution_count": 54,
   "metadata": {},
   "outputs": [],
   "source": [
    "#block 4: Convert the ADCP time serie dataset (Matlab to python time serie: yyyy/mm/dd hh/mm/ss)\n",
    "\n",
    "units = ADCP200.variables['TIME'].units\n",
    "calendar = ADCP200.variables['TIME'].calendar\n",
    "times = num2date(ADCP200.variables['TIME'][:], units=units, calendar=calendar)"
   ]
  },
  {
   "cell_type": "code",
   "execution_count": 55,
   "metadata": {},
   "outputs": [],
   "source": [
    "#block 5: Creat variable with ADCP dataset \n",
    "\n",
    "#For the basic data\n",
    "dph = DEPTH[:,0,0]\n",
    "latData =  LAT[:]      \n",
    "lonData = LON[:]       \n",
    "Wcolumn = Wheight[:]   \n",
    "data_u = U [:,:,:,:]\n",
    "data_v = V [:,:,:,:]\n",
    "v2d = data_v[:,:,0,0]\n",
    "u2d = data_u[:,:,0,0]\n",
    "\n",
    "\n",
    "#For the quality controle data \n",
    "hasqc1 = hasqc[:]\n",
    "Vqc1 = Vqc[:,:,0,0]\n",
    "Uqc1 = Uqc[:,:,0,0]\n",
    "Dqc1 = Dqc[:,0,0]"
   ]
  },
  {
   "cell_type": "code",
   "execution_count": 56,
   "metadata": {},
   "outputs": [],
   "source": [
    "#block 6: Mask the wrong values and creat a new variable with the good values.\n",
    "hasqc2 = ma.masked_where (hasqc1 != 4, Wcolumn)\n",
    "Dqc2 = ma.masked_where (Dqc1 != 1, dph)\n",
    "Vqc2 = ma.masked_where (Vqc1 != 1,v2d)\n",
    "Uqc2 = ma.masked_where (Uqc1 != 1,u2d )"
   ]
  },
  {
   "cell_type": "code",
   "execution_count": 57,
   "metadata": {},
   "outputs": [],
   "source": [
    "#block 6: reshape the depth of the mooring(dph) and the depth above the sensor(Wcolumn) for have the same shape.\n",
    "\n",
    "dph14=np.kron(np.ones((14,1)),Dqc2) # repeated the dph 14 times to match size of v2d.\n",
    "dph14f = ma.masked_where (dph14 < 0,dph14)\n",
    "Wtime=np.kron(np.ones((20832,1)),hasqc2)"
   ]
  },
  {
   "cell_type": "code",
   "execution_count": 58,
   "metadata": {},
   "outputs": [],
   "source": [
    "#block 7: Creation of the real depth variable.\n",
    "\n",
    "DepthReal = dph14f-Wtime.T"
   ]
  },
  {
   "cell_type": "code",
   "execution_count": 59,
   "metadata": {},
   "outputs": [],
   "source": [
    "#block 8: Creat new variable for the study depth.\n",
    "\n",
    "depthBin = np.array([5,15,25,35,45,55,65,75,85,95])\n",
    "depthBin3 = np.array([50,60,70,80,90,100])"
   ]
  },
  {
   "cell_type": "code",
   "execution_count": 60,
   "metadata": {},
   "outputs": [
    {
     "name": "stdout",
     "output_type": "stream",
     "text": [
      "(24341,)\n",
      "-0.6082396874449024\n",
      "(24503,)\n",
      "-0.5738721137645044\n",
      "(29455,)\n",
      "-0.44941988748652534\n",
      "(25346,)\n",
      "-0.4877600140217707\n",
      "(24341,)\n",
      "-0.462157054153534\n",
      "(24503,)\n",
      "-0.4113489477330793\n"
     ]
    }
   ],
   "source": [
    "#block 9: Use the loop to have mean velocity V depending on the depth.\n",
    "# Start to 40m below the surface for clean wrong surface data.\n",
    "Vresult = [ ]\n",
    "for i in range(40,100,10):   \n",
    "    vi= Vqc2[np.where((DepthReal.T > i) & (DepthReal.T < i+10))]  \n",
    "    print(np.shape(vi))\n",
    "    print(np.mean(vi))\n",
    "    Vresult.append(( np.mean(vi)))"
   ]
  },
  {
   "cell_type": "code",
   "execution_count": 61,
   "metadata": {},
   "outputs": [
    {
     "data": {
      "text/plain": [
       "(-0.3, -0.7)"
      ]
     },
     "execution_count": 61,
     "metadata": {},
     "output_type": "execute_result"
    },
    {
     "data": {
      "image/png": "[encoded data removed]",
      "text/plain": [
       "<matplotlib.figure.Figure at 0x7f8608dd2c88>"
      ]
     },
     "metadata": {},
     "output_type": "display_data"
    }
   ],
   "source": [
    "#block 10: Graph for the V velocity mean according to the depht.\n",
    "\n",
    "plt.plot(Vresult,-depthBin3)\n",
    "plt.xlim(-0.3,-0.7)"
   ]
  },
  {
   "cell_type": "code",
   "execution_count": 62,
   "metadata": {},
   "outputs": [
    {
     "name": "stdout",
     "output_type": "stream",
     "text": [
      "(24341,)\n",
      "0.003236302599299709\n",
      "(24503,)\n",
      "0.007534417155899317\n",
      "(29455,)\n",
      "0.0013706082540409967\n",
      "(25346,)\n",
      "0.013497965846092582\n",
      "(24341,)\n",
      "0.016919564070528043\n",
      "(24503,)\n",
      "0.021230329674525966\n"
     ]
    }
   ],
   "source": [
    "#block 11: Use the loop to have mean velocity U depending on the depth.\n",
    "\n",
    "Uresult = [ ]\n",
    "for i in range(40,100,10):\n",
    "   \n",
    "    vi= Uqc2[np.where((DepthReal.T > i) & (DepthReal.T < i+10))]  \n",
    "    print(np.shape(vi))\n",
    "    print(np.mean(vi))\n",
    "    #print(np.std(vi)) \n",
    "    Uresult.append(( np.mean(vi)))"
   ]
  },
  {
   "cell_type": "code",
   "execution_count": 63,
   "metadata": {
    "scrolled": true
   },
   "outputs": [
    {
     "data": {
      "text/plain": [
       "[<matplotlib.lines.Line2D at 0x7f8609080978>]"
      ]
     },
     "execution_count": 63,
     "metadata": {},
     "output_type": "execute_result"
    },
    {
     "data": {
      "image/png": "[encoded data removed]",
      "text/plain": [
       "<matplotlib.figure.Figure at 0x7f86090b2208>"
      ]
     },
     "metadata": {},
     "output_type": "display_data"
    }
   ],
   "source": [
    "#bock 12: Graph for the U velocity mean according to the depht.\n",
    "\n",
    "plt.plot(Uresult,-depthBin3)"
   ]
  },
  {
   "cell_type": "code",
   "execution_count": 64,
   "metadata": {},
   "outputs": [
    {
     "name": "stderr",
     "output_type": "stream",
     "text": [
      "/home/z3525831/anaconda3/lib/python3.6/site-packages/ipykernel_launcher.py:4: RuntimeWarning: invalid value encountered in sqrt\n",
      "  after removing the cwd from sys.path.\n"
     ]
    }
   ],
   "source": [
    "#block 13: Creat the mean Speed variable with U and V.\n",
    "\n",
    "Speed = (Uqc2*Uqc2) + (Vqc2*Vqc2)\n",
    "Speedf = np.sqrt(Speed)  "
   ]
  },
  {
   "cell_type": "code",
   "execution_count": 65,
   "metadata": {},
   "outputs": [
    {
     "name": "stdout",
     "output_type": "stream",
     "text": [
      "(24341,)\n",
      "0.6815810937293384\n",
      "(24503,)\n",
      "0.6513293586961263\n",
      "(29455,)\n",
      "0.5454140512711103\n",
      "(25346,)\n",
      "0.5734334303140046\n",
      "(24341,)\n",
      "0.5463181810208972\n",
      "(24503,)\n",
      "0.4975219086952756\n"
     ]
    }
   ],
   "source": [
    "#block 14: Use the loop to have mean Speed depending on the depth.\n",
    "\n",
    "\n",
    "Speedfm = [ ]\n",
    "for i  in range(40,100,10):  \n",
    "    vi= Speedf [np.where((DepthReal.T > i) & (DepthReal.T < i+10))]  \n",
    "    print(np.shape(vi))\n",
    "    print(np.mean(vi))\n",
    "    #print(np.std(vi)) \n",
    "    Speedfm.append(( np.mean(vi)))"
   ]
  },
  {
   "cell_type": "code",
   "execution_count": 66,
   "metadata": {},
   "outputs": [
    {
     "data": {
      "text/plain": [
       "[<matplotlib.lines.Line2D at 0x7f86091ed978>]"
      ]
     },
     "execution_count": 66,
     "metadata": {},
     "output_type": "execute_result"
    },
    {
     "data": {
      "image/png": "[encoded data removed]",
      "text/plain": [
       "<matplotlib.figure.Figure at 0x7f8609129048>"
      ]
     },
     "metadata": {},
     "output_type": "display_data"
    }
   ],
   "source": [
    "#bock 15: Graph for the mean Speed according to the depht.\n",
    "\n",
    "plt.plot(Speedfm,-depthBin3)     "
   ]
  },
  {
   "cell_type": "code",
   "execution_count": 67,
   "metadata": {},
   "outputs": [],
   "source": [
    "#block 16: Creat the mean Power variable.\n",
    "\n",
    "P = 0.5 * 1025 * 4 * (Speedf*Speedf*Speedf)     \n",
    "Pf = P/1000"
   ]
  },
  {
   "cell_type": "code",
   "execution_count": 68,
   "metadata": {},
   "outputs": [
    {
     "name": "stdout",
     "output_type": "stream",
     "text": [
      "(24341,)\n",
      "1.1203631898223652\n",
      "(24503,)\n",
      "1.0124248876723085\n",
      "(29455,)\n",
      "0.7039859049362199\n",
      "(25346,)\n",
      "0.7045715220560768\n",
      "(24341,)\n",
      "0.6205758906405164\n",
      "(24503,)\n",
      "0.5057572065939895\n"
     ]
    }
   ],
   "source": [
    "#block 17: Use the loop to have mean Power depending to the depth.\n",
    "\n",
    "Pfm = [ ]\n",
    "for i in range(40,100,10):\n",
    "   \n",
    "    vi= Pf[np.where((DepthReal.T > i) & (DepthReal.T < i+10))]  \n",
    "    print(np.shape(vi))\n",
    "    print(np.mean(vi))\n",
    "    #print(np.std(vi)) \n",
    "    Pfm.append(( np.mean(vi)))"
   ]
  },
  {
   "cell_type": "code",
   "execution_count": 69,
   "metadata": {},
   "outputs": [
    {
     "data": {
      "text/plain": [
       "[<matplotlib.lines.Line2D at 0x7f860910e160>]"
      ]
     },
     "execution_count": 69,
     "metadata": {},
     "output_type": "execute_result"
    },
    {
     "data": {
      "image/png": "[encoded data removed]",
      "text/plain": [
       "<matplotlib.figure.Figure at 0x7f8611755240>"
      ]
     },
     "metadata": {},
     "output_type": "display_data"
    }
   ],
   "source": [
    "#bock 18: Graph for the mean Power according to the depht.\n",
    "\n",
    "plt.plot(Pfm,-depthBin3)"
   ]
  },
  {
   "cell_type": "code",
   "execution_count": null,
   "metadata": {},
   "outputs": [],
   "source": []
  }
 ],
 "metadata": {
  "kernelspec": {
   "display_name": "Python 3",
   "language": "python",
   "name": "python3"
  },
  "language_info": {
   "codemirror_mode": {
    "name": "ipython",
    "version": 3
   },
   "file_extension": ".py",
   "mimetype": "text/x-python",
   "name": "python",
   "nbconvert_exporter": "python",
   "pygments_lexer": "ipython3",
   "version": "3.6.4"
  }
 },
 "nbformat": 4,
 "nbformat_minor": 2
}
