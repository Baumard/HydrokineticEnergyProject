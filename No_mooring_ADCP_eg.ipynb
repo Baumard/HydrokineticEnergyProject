{
 "cells": [
  {
   "cell_type": "code",
   "execution_count": 13,
   "metadata": {},
   "outputs": [],
   "source": [
    "# block 1: import all important libraries.\n",
    "\n",
    "%matplotlib inline\n",
    "from netCDF4 import Dataset\n",
    "from netCDF4 import num2date\n",
    "from matplotlib.pyplot import figure, pcolor, colorbar, xlabel, ylabel, title, draw, quiver, show\n",
    "import numpy as np\n",
    "import matplotlib.pyplot as plt \n",
    "import scipy.io as sio\n",
    "import pandas as pd\n",
    "import numpy as np\n",
    "import numpy.ma as ma\n",
    "from math import sqrt "
   ]
  },
  {
   "cell_type": "code",
   "execution_count": 14,
   "metadata": {},
   "outputs": [],
   "source": [
    "# block 2: Import the used data file and create a variable with the data in the file.\n",
    "\n",
    "data = \"/home/z3525831/Data/IMOS_ANMN-NRS_AETVZ_20120325T002056Z_SEQ200-SubSurface_FV01_SEQ200-SubSurface-120325-Workhorse-ADCP-110_END-20130606T202300Z_C-20131119T020203Z.nc\"\n",
    "ADCP200 = Dataset(data) "
   ]
  },
  {
   "cell_type": "code",
   "execution_count": 15,
   "metadata": {},
   "outputs": [],
   "source": [
    "# block 3: Extracting the U/V/lat/long/time/H_B_S/ from the import file and assigns them to a variable.\n",
    " \n",
    "LAT = ADCP200.variables['LATITUDE']\n",
    "LON = ADCP200.variables['LONGITUDE']\n",
    "TIMES = ADCP200.variables['TIME']\n",
    "DEPTH = ADCP200.variables['DEPTH']\n",
    "V = ADCP200.variables['VCUR']\n",
    "U = ADCP200.variables['UCUR']\n",
    "W = ADCP200.variables['WCUR']\n",
    "Wheight = ADCP200.variables['HEIGHT_ABOVE_SENSOR']"
   ]
  },
  {
   "cell_type": "code",
   "execution_count": 16,
   "metadata": {},
   "outputs": [],
   "source": [
    "#block 4: Convert the ADCP time serie dataset (Matlab to python time serie: yyyy/mm/dd hh/mm/ss).\n",
    "\n",
    "units = ADCP200.variables['TIME'].units\n",
    "calendar = ADCP200.variables['TIME'].calendar\n",
    "times = num2date(ADCP200.variables['TIME'][:], units=units, calendar=calendar)"
   ]
  },
  {
   "cell_type": "code",
   "execution_count": 17,
   "metadata": {},
   "outputs": [],
   "source": [
    "#block 5: Creat variable with ADCP dataset.\n",
    "\n",
    "dph = DEPTH[:,0,0]\n",
    "latData =  LAT[:]      \n",
    "lonData = LON[:]       \n",
    "Wcolumn = Wheight[:]   \n",
    "data_u = U [:,:,:,:]\n",
    "data_v = V [:,:,:,:]\n",
    "v2d = data_v[:,:,0,0]\n",
    "v1d = v2d\n",
    "u2d = data_u[:,:,0,0]"
   ]
  },
  {
   "cell_type": "code",
   "execution_count": 19,
   "metadata": {},
   "outputs": [],
   "source": [
    "#block 6: reshape the depth of the mooring(dph) and the depth above the sensor(Wcolumn) for have the same shape.\n",
    "\n",
    "dph14=np.kron(np.ones((14,1)),dph) # repeated the dph 14 times to match size of v2d.\n",
    "Wtime=np.kron(np.ones((20832,1)),Wcolumn)"
   ]
  },
  {
   "cell_type": "code",
   "execution_count": 21,
   "metadata": {},
   "outputs": [
    {
     "data": {
      "text/plain": [
       "((14,), (20832,))"
      ]
     },
     "execution_count": 21,
     "metadata": {},
     "output_type": "execute_result"
    }
   ],
   "source": [
    "#The difference after the reshape :\n",
    "#before\n",
    "np.shape(Wcolumn), np.shape(dph),"
   ]
  },
  {
   "cell_type": "code",
   "execution_count": 22,
   "metadata": {},
   "outputs": [
    {
     "data": {
      "text/plain": [
       "((14, 20832), (20832, 14))"
      ]
     },
     "execution_count": 22,
     "metadata": {},
     "output_type": "execute_result"
    }
   ],
   "source": [
    "#after\n",
    "np.shape(dph14),np.shape(Wtime)"
   ]
  },
  {
   "cell_type": "code",
   "execution_count": 29,
   "metadata": {},
   "outputs": [
    {
     "data": {
      "text/plain": [
       "(14, 20832)"
      ]
     },
     "execution_count": 29,
     "metadata": {},
     "output_type": "execute_result"
    }
   ],
   "source": [
    "#block 7: Creation of the real depth variable.\n",
    "\n",
    "DepthReal = dph14-Wtime.T\n",
    "np.shape(DepthReal)"
   ]
  },
  {
   "cell_type": "code",
   "execution_count": 28,
   "metadata": {},
   "outputs": [
    {
     "data": {
      "text/plain": [
       "(<matplotlib.collections.PolyCollection at 0x7f06415915f8>,\n",
       " <matplotlib.colorbar.Colorbar at 0x7f062c113ac8>)"
      ]
     },
     "execution_count": 28,
     "metadata": {},
     "output_type": "execute_result"
    },
    {
     "data": {
      "image/png": "[encoded data removed]",
      "text/plain": [
       "<matplotlib.figure.Figure at 0x7f0641612c18>"
      ]
     },
     "metadata": {},
     "output_type": "display_data"
    }
   ],
   "source": [
    "#block 8: Plot the variation of the mooring in time.\n",
    "\n",
    "plt.pcolor(DepthReal, vmin=0, vmax=120), plt.colorbar()"
   ]
  },
  {
   "cell_type": "code",
   "execution_count": 30,
   "metadata": {},
   "outputs": [
    {
     "name": "stdout",
     "output_type": "stream",
     "text": [
      "(17726,)\n",
      "-0.10050510715793919\n",
      "(22439,)\n",
      "-0.27968486093144335\n",
      "(29339,)\n",
      "-0.4579780775512904\n",
      "(25346,)\n",
      "-0.6262940581048898\n",
      "(24341,)\n",
      "-0.6473039073759522\n",
      "(24503,)\n",
      "-0.6163434203075259\n",
      "(29455,)\n",
      "-0.493083793001375\n",
      "(25346,)\n",
      "-0.5235101661751361\n",
      "(24341,)\n",
      "-0.49380384333915367\n",
      "(24503,)\n",
      "-0.4371348352940576\n"
     ]
    }
   ],
   "source": [
    "#block 9: Used loop command (\"for\") for creat a variable with the mean speed for each depth (every 10m).\n",
    "\n",
    "Spresult = [ ]\n",
    "for i in range(0,100,10):\n",
    "   \n",
    "    vi= v2d[np.where((DepthReal.T > i) & (DepthReal.T < i+10))]  \n",
    "    print(np.shape(vi))\n",
    "    print(np.mean(vi))\n",
    "    #print(np.std(vi)) \n",
    "    Spresult.append(( np.mean(vi)))"
   ]
  },
  {
   "cell_type": "code",
   "execution_count": 31,
   "metadata": {},
   "outputs": [
    {
     "data": {
      "text/plain": [
       "((10,),\n",
       " [-0.10050510715793919,\n",
       "  -0.27968486093144335,\n",
       "  -0.4579780775512904,\n",
       "  -0.6262940581048898,\n",
       "  -0.6473039073759522,\n",
       "  -0.6163434203075259,\n",
       "  -0.493083793001375,\n",
       "  -0.5235101661751361,\n",
       "  -0.49380384333915367,\n",
       "  -0.4371348352940576])"
      ]
     },
     "execution_count": 31,
     "metadata": {},
     "output_type": "execute_result"
    }
   ],
   "source": [
    "#Shape of the new variable\n",
    "np.shape(Spresult), Spresult"
   ]
  },
  {
   "cell_type": "code",
   "execution_count": null,
   "metadata": {},
   "outputs": [],
   "source": [
    "#block 10: Creat a variable with the desired depth step.\n",
    "\n",
    "depthBin = np.array([5,15,25,35,45,55,65,75,85,95])"
   ]
  },
  {
   "cell_type": "code",
   "execution_count": 32,
   "metadata": {},
   "outputs": [
    {
     "data": {
      "text/plain": [
       "[<matplotlib.lines.Line2D at 0x7f062c08b630>]"
      ]
     },
     "execution_count": 32,
     "metadata": {},
     "output_type": "execute_result"
    },
    {
     "data": {
      "image/png": "[encoded data removed]",
      "text/plain": [
       "<matplotlib.figure.Figure at 0x7f062c0c5748>"
      ]
     },
     "metadata": {},
     "output_type": "display_data"
    }
   ],
   "source": [
    "#block 11: Plot the mean velocity for all the water column.\n",
    "\n",
    "plt.plot(Spresult,-depthBin)"
   ]
  }
 ],
 "metadata": {
  "kernelspec": {
   "display_name": "Python 3",
   "language": "python",
   "name": "python3"
  },
  "language_info": {
   "codemirror_mode": {
    "name": "ipython",
    "version": 3
   },
   "file_extension": ".py",
   "mimetype": "text/x-python",
   "name": "python",
   "nbconvert_exporter": "python",
   "pygments_lexer": "ipython3",
   "version": "3.6.4"
  }
 },
 "nbformat": 4,
 "nbformat_minor": 2
}
