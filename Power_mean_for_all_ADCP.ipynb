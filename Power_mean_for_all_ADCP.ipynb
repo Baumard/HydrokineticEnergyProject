{
 "cells": [
  {
   "cell_type": "code",
   "execution_count": 43,
   "metadata": {},
   "outputs": [],
   "source": [
    "#block 1: import all important libraries\n",
    "\n",
    "%matplotlib inline\n",
    "from netCDF4 import Dataset\n",
    "from netCDF4 import num2date\n",
    "from matplotlib.pyplot import figure, pcolor, colorbar, xlabel, ylabel, title, draw, quiver, show\n",
    "import numpy as np\n",
    "import matplotlib.pyplot as plt \n",
    "import scipy.io as sio\n",
    "import pandas as pd\n",
    "import numpy as np\n",
    "import numpy.ma as ma\n",
    "from math import sqrt "
   ]
  },
  {
   "cell_type": "code",
   "execution_count": 44,
   "metadata": {},
   "outputs": [],
   "source": [
    "#block 2: Import the used data file and create a variable with the data in the file\n",
    "#adcp 200\n",
    "data2 = \"/home/z3525831/Data/IMOS_ANMN-NRS_AETVZ_20120325T002056Z_SEQ200-SubSurface_FV01_SEQ200-SubSurface-120325-Workhorse-ADCP-110_END-20130606T202300Z_C-20131119T020203Z.nc\"\n",
    "ADCP200 = Dataset(data2)  \n",
    "\n",
    "#adcp400\n",
    "data4 = \"/home/z3525831/Data/IMOS_ANMN-NRS_AETVZ_20120324T214125Z_SEQ400-SubSurface_FV01_SEQ400-SubSurface-120325-Workhorse-ADCP-110_END-20130606T215200Z_C-20131119T020507Z.nc\"\n",
    "ADCP400 = Dataset(data4)\n",
    "\n",
    "#adcp100\n",
    "data = sio.loadmat('/media/z3525831/Transcend/UNSW/DATA ADCP/CH100_nostructure.mat')"
   ]
  },
  {
   "cell_type": "code",
   "execution_count": 45,
   "metadata": {},
   "outputs": [],
   "source": [
    "#block 3: Extracting the U/V/lat/long/time/H_B_S/qc data from the import file and assigns them to a variable\n",
    "\n",
    "# adcp 200\n",
    "#basic data \n",
    "LAT2 = ADCP200.variables['LATITUDE']\n",
    "LON2 = ADCP200.variables['LONGITUDE']\n",
    "TIMES2 = ADCP200.variables['TIME']\n",
    "DEPTH2 = ADCP200.variables['DEPTH']\n",
    "V2 = ADCP200.variables['VCUR']\n",
    "U2 = ADCP200.variables['UCUR']\n",
    "W2 = ADCP200.variables['WCUR']\n",
    "Wheight2 = ADCP200.variables['HEIGHT_ABOVE_SENSOR']\n",
    "#quality control\n",
    "hasqc2 = ADCP200.variables['HEIGHT_ABOVE_SENSOR_quality_control']\n",
    "Vqc2 = ADCP200.variables['VCUR_quality_control']\n",
    "Uqc2 = ADCP200.variables['UCUR_quality_control']\n",
    "Dqc2 = ADCP200.variables['DEPTH_quality_control']\n",
    "tqc2 = ADCP200.variables['TIME_quality_control']\n",
    "\n",
    "#adcp400\n",
    "LAT4 = ADCP400.variables['LATITUDE']\n",
    "LON4 = ADCP400.variables['LONGITUDE']\n",
    "TIMES4 = ADCP400.variables['TIME']\n",
    "DEPTH4 = ADCP400.variables['DEPTH']\n",
    "V4 = ADCP400.variables['VCUR']\n",
    "U4 = ADCP400.variables['UCUR']\n",
    "W4 = ADCP400.variables['WCUR']\n",
    "Wheight4 = ADCP400.variables['HEIGHT_ABOVE_SENSOR']\n",
    "\n",
    "\n",
    "#quality control\n",
    "hasqc4 = ADCP400.variables['HEIGHT_ABOVE_SENSOR_quality_control']\n",
    "Vqc4 = ADCP400.variables['VCUR_quality_control']\n",
    "Uqc4 = ADCP400.variables['UCUR_quality_control']\n",
    "Dqc4 = ADCP400.variables['DEPTH_quality_control']\n",
    "tqc4 = ADCP400.variables['TIME_quality_control']\n",
    "\n",
    "#adcp100\n",
    "data_U = data['U']\n",
    "data_V = data['V']\n",
    "data_depthV = data['depthV']\n",
    "data_t = data['t']\n",
    "data_timeDV = data['timeDV']                                          \n",
    "data_u25 = data['u25']                            \n",
    "data_u55 = data['u55']\n",
    "data_u90 = data['u90']\n",
    "data_v25 = data['v25']\n",
    "data_v55 = data['v55']\n",
    "data_v90 = data['v90']\n"
   ]
  },
  {
   "cell_type": "code",
   "execution_count": 48,
   "metadata": {},
   "outputs": [],
   "source": [
    "#block 4: Convert the ADCP time serie dataset (Matlab to python time serie: yyyy/mm/dd hh/mm/ss)\n",
    "\n",
    "#adcp 200\n",
    "units2 = ADCP200.variables['TIME'].units\n",
    "calendar2 = ADCP200.variables['TIME'].calendar\n",
    "times2 = num2date(ADCP200.variables['TIME'][:], units=units, calendar=calendar)\n",
    "\n",
    "#adcp400\n",
    "units4 = ADCP400.variables['TIME'].units\n",
    "calendar4 = ADCP400.variables['TIME'].calendar\n",
    "times4 = num2date(ADCP400.variables['TIME'][:], units=units, calendar=calendar)\n",
    "\n",
    "#adcp100\n",
    "def matlab2datetime(matlab_datenum):\n",
    "    day = dt.datetime.fromordinal(int(matlab_datenum))                         \n",
    "    dayfrac = dt.timedelta(days=matlab_datenum%1) - dt.timedelta(days = 366) \n",
    "    return day + dayfrac\n",
    "t = data_t[0,:]\n",
    "\n"
   ]
  },
  {
   "cell_type": "code",
   "execution_count": 50,
   "metadata": {},
   "outputs": [],
   "source": [
    "#block 5: Creat variable with ADCP dataset \n",
    "\n",
    "\n",
    "#adcp200\n",
    "#For the basic data\n",
    "dph2 = DEPTH2[:,0,0]\n",
    "latData2 =  LAT2[:]      \n",
    "lonData2 = LON2[:]       \n",
    "Wcolumn2 = Wheight2[:]   \n",
    "data_u2 = U2 [:,:,:,:]\n",
    "data_v2 = V2 [:,:,:,:]\n",
    "v2d2 = data_v2[:,:,0,0]\n",
    "u2d2 = data_u2[:,:,0,0]\n",
    "#For the quality controle data \n",
    "hasqc12 = hasqc2[:]\n",
    "Vqc12 = Vqc2[:,:,0,0]\n",
    "Uqc12 = Uqc2[:,:,0,0]\n",
    "Dqc12 = Dqc2[:,0,0]\n",
    "\n",
    "\n",
    "\n",
    "#adcp400\n",
    "#For the basic data\n",
    "dph4 = DEPTH4[:,0,0]\n",
    "latData4 =  LAT4[:]      \n",
    "lonData4 = LON4[:]       \n",
    "Wcolumn4 = Wheight4[:]   \n",
    "data_u4 = U4 [:,:,:,:]\n",
    "data_v4 = V4 [:,:,:,:]\n",
    "v2d4 = data_v4[:,:,0,0]\n",
    "u2d4 = data_u4[:,:,0,0]\n",
    "\n",
    "\n",
    "#For the quality controle data \n",
    "hasqc14 = hasqc4[:]\n",
    "Vqc14 = Vqc4[:,:,0,0]\n",
    "Uqc14 = Uqc4[:,:,0,0]\n",
    "Dqc14 = Dqc4[:,0,0]\n",
    "\n",
    "\n",
    "\n",
    "#adcp100\n",
    "import datetime as dt\n",
    "py_t = [matlab2datetime(tval) for tval in t]\n",
    "V = (data_U*data_U) + (data_V*data_V)\n",
    "Vf = np.sqrt(V)                        \n",
    "P = 0.5 * 1025 * 4 * (Vf*Vf*Vf)    \n",
    "Pf = P/1000                    \n",
    "Pmd = np.nanmean(Pf,axis=1) "
   ]
  },
  {
   "cell_type": "code",
   "execution_count": 32,
   "metadata": {},
   "outputs": [],
   "source": [
    "#block 6: Mask the wrong values and creat a new variable with the good values.\n",
    "\n",
    "#adcp200\n",
    "hasqc22 = ma.masked_where (hasqc12 != 4, Wcolumn2)\n",
    "Dqc22 = ma.masked_where (Dqc12 != 1, dph2)\n",
    "Vqc22 = ma.masked_where (Vqc12 != 1,v2d2)\n",
    "Uqc22 = ma.masked_where (Uqc12 != 1,u2d2 )\n",
    "\n",
    "\n",
    "\n",
    "#adcp400\n",
    "hasqc24 = ma.masked_where (hasqc14 != 4, Wcolumn4)\n",
    "Dqc24 = ma.masked_where (Dqc14 != 1, dph4)\n",
    "Vqc24 = ma.masked_where (Vqc14 != 1,v2d4)\n",
    "Uqc24 = ma.masked_where (Uqc14 != 1,u2d4)\n",
    "\n",
    "\n"
   ]
  },
  {
   "cell_type": "code",
   "execution_count": 33,
   "metadata": {},
   "outputs": [],
   "source": [
    "#block 6: reshape the depth of the mooring(dph) and the depth above the sensor(Wcolumn) for have the same shape.\n",
    "\n",
    "\n",
    "#adcp200\n",
    "dph142=np.kron(np.ones((14,1)),Dqc22) # repeated the dph 14 times to match size of v2d.\n",
    "dph14f2 = ma.masked_where (dph142 < 0,dph142)\n",
    "Wtime2=np.kron(np.ones((20832,1)),hasqc22)\n",
    "\n",
    "\n",
    "#adcp400\n",
    "dph144=np.kron(np.ones((14,1)),Dqc24) # repeated the dph 14 times to match size of v2d.\n",
    "dph14f4 = ma.masked_where (dph144 < 0,dph144)\n",
    "Wtime4=np.kron(np.ones((20833,1)),hasqc24)\n",
    "\n",
    "\n"
   ]
  },
  {
   "cell_type": "code",
   "execution_count": 34,
   "metadata": {},
   "outputs": [],
   "source": [
    "#block 7: Creation of the real depth variable.\n",
    "\n",
    "#adcp200\n",
    "DepthReal2 = dph14f2-Wtime2.T\n",
    "\n",
    "\n",
    "#adcp400\n",
    "DepthReal4 = dph14f4-Wtime4.T\n",
    "\n",
    "\n"
   ]
  },
  {
   "cell_type": "code",
   "execution_count": 61,
   "metadata": {},
   "outputs": [],
   "source": [
    "#block 8: Creat new variable for the study depth.\n",
    "\n",
    "#adcp200\n",
    "depthBin32 = np.array([50,60,70,80,90,100])\n",
    "\n",
    "#adcp400\n",
    "depthBin24 = np.array([40,60,80,100,120,140,160,180,200])\n",
    "\n",
    "#adcp100\n",
    "depthBin1 = np.array([-13,-17,-21,-25,-29,-33,-37,-41,-45,-49,-53,-57,-61,-65,-69,-73,-77,-81,-85,-89])\n",
    "\n"
   ]
  },
  {
   "cell_type": "code",
   "execution_count": 37,
   "metadata": {},
   "outputs": [
    {
     "name": "stderr",
     "output_type": "stream",
     "text": [
      "/home/z3525831/anaconda3/lib/python3.6/site-packages/ipykernel_launcher.py:5: RuntimeWarning: invalid value encountered in sqrt\n",
      "  \"\"\"\n",
      "/home/z3525831/anaconda3/lib/python3.6/site-packages/ipykernel_launcher.py:12: RuntimeWarning: invalid value encountered in sqrt\n",
      "  if sys.path[0] == '':\n"
     ]
    }
   ],
   "source": [
    "#block 9: Creat the mean Speed and Power variable with U and V.\n",
    "\n",
    "#adcp200\n",
    "Speed2 = (Uqc22*Uqc22) + (Vqc22*Vqc22)\n",
    "Speedf2 = np.sqrt(Speed2) \n",
    "P2 = 0.5 * 1025 * 4 * (Speedf2*Speedf2*Speedf2)     \n",
    "Pf2 = P2/1000\n",
    "\n",
    "\n",
    "#adcp400\n",
    "Speed4 = (Uqc24*Uqc24) + (Vqc24*Vqc24)\n",
    "Speedf4 = np.sqrt(Speed4) \n",
    "P4 = 0.5 * 1025 * 4 * (Speedf4*Speedf4*Speedf4)     \n",
    "Pf4 = P4/1000\n",
    "\n",
    "\n"
   ]
  },
  {
   "cell_type": "code",
   "execution_count": 88,
   "metadata": {},
   "outputs": [],
   "source": [
    "#block 10: Use the loop to have mean Power depending on the depth.\n",
    "\n",
    "#adcp200\n",
    "Pfm2 = [ ]\n",
    "for i in range(40,100,10):\n",
    "   \n",
    "    vi2= Pf2[np.where((DepthReal2.T > i) & (DepthReal2.T < i+10))]  \n",
    "    #print(np.shape(vi2))\n",
    "    #print(np.mean(vi2))\n",
    "    #print(np.std(vi)) \n",
    "    Pfm2.append(( np.mean(vi2)))\n",
    "    \n",
    "    \n",
    "#adcp400\n",
    "Pfm4 = [ ]\n",
    "for i in range(20,200,20):\n",
    "   \n",
    "    vi4= Pf4[np.where((DepthReal4.T > i) & (DepthReal4.T < i+10))]  \n",
    "    #print(np.shape(vi4))\n",
    "    #print(np.mean(vi4))\n",
    "    #print(np.std(vi)) \n",
    "    Pfm4.append(( np.mean(vi4)))\n",
    "    \n",
    "    \n",
    "    "
   ]
  },
  {
   "cell_type": "code",
   "execution_count": 86,
   "metadata": {},
   "outputs": [
    {
     "data": {
      "text/plain": [
       "<matplotlib.legend.Legend at 0x7fd925949438>"
      ]
     },
     "execution_count": 86,
     "metadata": {},
     "output_type": "execute_result"
    },
    {
     "data": {
      "image/png": "[encoded data removed]",
      "text/plain": [
       "<matplotlib.figure.Figure at 0x7fd925949d68>"
      ]
     },
     "metadata": {},
     "output_type": "display_data"
    }
   ],
   "source": [
    "#block 11: Plot the graph\n",
    "\n",
    "plt.rcParams['figure.figsize'] = (14,12) \n",
    "plt.xlabel(\"Power(kW)\")             \n",
    "plt.ylabel(\"Depth(m) \")\n",
    "plt.title(\"Power mean for each ADCP according to the water column depth\")\n",
    "plt.grid(True) \n",
    "#adcp200\n",
    "plt.plot(Pfm2,-depthBin32,label=\"SEQ200\")\n",
    "\n",
    "\n",
    "#adcp400\n",
    "Pfm24 = Pfm4[::-1]\n",
    "plt.plot(Pfm24,-depthBin24,label=\"SEQ400\")\n",
    "\n",
    "#adcp100\n",
    "Pmd2 = Pmd[::-1]\n",
    "plt.plot(Pmd2,depthBin1,label=\"CH100\")\n",
    "plt.legend() "
   ]
  }
 ],
 "metadata": {
  "kernelspec": {
   "display_name": "Python 3",
   "language": "python",
   "name": "python3"
  },
  "language_info": {
   "codemirror_mode": {
    "name": "ipython",
    "version": 3
   },
   "file_extension": ".py",
   "mimetype": "text/x-python",
   "name": "python",
   "nbconvert_exporter": "python",
   "pygments_lexer": "ipython3",
   "version": "3.6.4"
  }
 },
 "nbformat": 4,
 "nbformat_minor": 2
}
