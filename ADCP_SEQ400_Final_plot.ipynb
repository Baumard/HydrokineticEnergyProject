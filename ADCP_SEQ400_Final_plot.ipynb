{
 "cells": [
  {
   "cell_type": "code",
   "execution_count": 1,
   "metadata": {},
   "outputs": [],
   "source": [
    "%matplotlib inline\n",
    "from netCDF4 import Dataset\n",
    "from netCDF4 import num2date\n",
    "from matplotlib.pyplot import figure, pcolor, colorbar, xlabel, ylabel, title, draw, quiver, show\n",
    "import numpy as np\n",
    "import matplotlib.pyplot as plt \n",
    "import scipy.io as sio\n",
    "import pandas as pd\n",
    "import numpy as np\n",
    "import numpy.ma as ma\n",
    "from math import sqrt "
   ]
  },
  {
   "cell_type": "code",
   "execution_count": 2,
   "metadata": {},
   "outputs": [],
   "source": [
    "data = \"/home/z3525831/Data/IMOS_ANMN-NRS_AETVZ_20120324T214125Z_SEQ400-SubSurface_FV01_SEQ400-SubSurface-120325-Workhorse-ADCP-110_END-20130606T215200Z_C-20131119T020507Z.nc\"\n",
    "ADCP400 = Dataset(data)"
   ]
  },
  {
   "cell_type": "code",
   "execution_count": 6,
   "metadata": {},
   "outputs": [],
   "source": [
    "LAT = ADCP400.variables['LATITUDE']\n",
    "LON = ADCP400.variables['LONGITUDE']\n",
    "TIMES = ADCP400.variables['TIME']\n",
    "DEPTH = ADCP400.variables['DEPTH']\n",
    "V = ADCP400.variables['VCUR']\n",
    "U = ADCP400.variables['UCUR']\n",
    "W = ADCP400.variables['WCUR']\n",
    "Wheight = ADCP400.variables['HEIGHT_ABOVE_SENSOR']\n",
    "\n",
    "\n",
    "#quality control\n",
    "hasqc = ADCP400.variables['HEIGHT_ABOVE_SENSOR_quality_control']\n",
    "Vqc = ADCP400.variables['VCUR_quality_control']\n",
    "Uqc = ADCP400.variables['UCUR_quality_control']\n",
    "Dqc = ADCP400.variables['DEPTH_quality_control']\n",
    "tqc = ADCP400.variables['TIME_quality_control']"
   ]
  },
  {
   "cell_type": "code",
   "execution_count": 4,
   "metadata": {},
   "outputs": [],
   "source": [
    "units = ADCP400.variables['TIME'].units\n",
    "calendar = ADCP400.variables['TIME'].calendar\n",
    "times = num2date(ADCP400.variables['TIME'][:], units=units, calendar=calendar)"
   ]
  },
  {
   "cell_type": "code",
   "execution_count": 5,
   "metadata": {},
   "outputs": [],
   "source": [
    "#block 5: Creat variable with ADCP dataset \n",
    "\n",
    "#For the basic data\n",
    "dph = DEPTH[:,0,0]\n",
    "latData =  LAT[:]      \n",
    "lonData = LON[:]       \n",
    "Wcolumn = Wheight[:]   \n",
    "data_u = U [:,:,:,:]\n",
    "data_v = V [:,:,:,:]\n",
    "v2d = data_v[:,:,0,0]\n",
    "u2d = data_u[:,:,0,0]\n",
    "\n",
    "\n",
    "#For the quality controle data \n",
    "hasqc1 = hasqc[:]\n",
    "Vqc1 = Vqc[:,:,0,0]\n",
    "Uqc1 = Uqc[:,:,0,0]\n",
    "Dqc1 = Dqc[:,0,0]"
   ]
  },
  {
   "cell_type": "code",
   "execution_count": 7,
   "metadata": {},
   "outputs": [],
   "source": [
    "#block 6: Mask the wrong values and creat a new variable with the good values.\n",
    "hasqc2 = ma.masked_where (hasqc1 != 4, Wcolumn)\n",
    "Dqc2 = ma.masked_where (Dqc1 != 1, dph)\n",
    "Vqc2 = ma.masked_where (Vqc1 != 1,v2d)\n",
    "Uqc2 = ma.masked_where (Uqc1 != 1,u2d )"
   ]
  },
  {
   "cell_type": "code",
   "execution_count": 8,
   "metadata": {},
   "outputs": [],
   "source": [
    "#block 6: reshape the depth of the mooring(dph) and the depth above the sensor(Wcolumn) for have the same shape.\n",
    "\n",
    "dph14=np.kron(np.ones((14,1)),Dqc2) # repeated the dph 14 times to match size of v2d.\n",
    "dph14f = ma.masked_where (dph14 < 0,dph14)\n",
    "Wtime=np.kron(np.ones((20833,1)),hasqc2)"
   ]
  },
  {
   "cell_type": "code",
   "execution_count": 9,
   "metadata": {},
   "outputs": [],
   "source": [
    "#block 7: Creation of the real depth variable.\n",
    "\n",
    "DepthReal = dph14f-Wtime.T"
   ]
  },
  {
   "cell_type": "code",
   "execution_count": 25,
   "metadata": {},
   "outputs": [],
   "source": [
    "depthBin = np.array([5,15,25,35,45,55,65,75,85,95])\n",
    "depthBin2 = np.array([40,60,80,100,120,140,160,180,200])"
   ]
  },
  {
   "cell_type": "code",
   "execution_count": 40,
   "metadata": {},
   "outputs": [
    {
     "name": "stdout",
     "output_type": "stream",
     "text": [
      "(10729,)\n",
      "-0.23978257226387018\n",
      "(16181,)\n",
      "-0.35445775077498387\n",
      "(22200,)\n",
      "-0.45569612449998315\n",
      "(25301,)\n",
      "-0.5081494390398267\n",
      "(25686,)\n",
      "-0.5045424822540149\n",
      "(17763,)\n",
      "-0.6455696563710335\n",
      "(12955,)\n",
      "-0.6945459872753655\n",
      "(6858,)\n",
      "-0.7563330806902985\n",
      "(1697,)\n",
      "-0.7874061321390087\n"
     ]
    }
   ],
   "source": [
    "Vresult = [ ]\n",
    "for i in range(20,200,20):\n",
    "   \n",
    "    vi= Vqc2[np.where((DepthReal.T > i) & (DepthReal.T < i+10))]  \n",
    "    print(np.shape(vi))\n",
    "    print(np.mean(vi))\n",
    "    #print(np.std(vi)) \n",
    "    Vresult.append(( np.mean(vi)))"
   ]
  },
  {
   "cell_type": "code",
   "execution_count": 42,
   "metadata": {},
   "outputs": [
    {
     "data": {
      "text/plain": [
       "(-0.2, -0.8)"
      ]
     },
     "execution_count": 42,
     "metadata": {},
     "output_type": "execute_result"
    },
    {
     "data": {
      "image/png": "[encoded data removed]",
      "text/plain": [
       "<matplotlib.figure.Figure at 0x7f469dd40d30>"
      ]
     },
     "metadata": {},
     "output_type": "display_data"
    }
   ],
   "source": [
    "Vresult2 = Vresult[::-1]\n",
    "plt.plot(Vresult2,-depthBin2)\n",
    "plt.xlim(-0.2,-0.8)"
   ]
  },
  {
   "cell_type": "code",
   "execution_count": 44,
   "metadata": {},
   "outputs": [
    {
     "name": "stdout",
     "output_type": "stream",
     "text": [
      "(10729,)\n",
      "-0.06340503127105795\n",
      "(16181,)\n",
      "-0.07268820638050844\n",
      "(22200,)\n",
      "-0.08722840262013064\n",
      "(25301,)\n",
      "-0.07535395038340706\n",
      "(25686,)\n",
      "-0.06753741870039223\n",
      "(17763,)\n",
      "-0.06559802044537143\n",
      "(12955,)\n",
      "-0.04484819543589198\n",
      "(6858,)\n",
      "-0.019649592312899502\n",
      "(1697,)\n",
      "-0.02221072770626609\n"
     ]
    }
   ],
   "source": [
    "Uresult = [ ]\n",
    "for i in range(20,200,20):   \n",
    "    vi= Uqc2[np.where((DepthReal.T > i) & (DepthReal.T < i+10))]  \n",
    "    print(np.shape(vi))\n",
    "    print(np.mean(vi))\n",
    "    #print(np.std(vi)) \n",
    "    Uresult.append(( np.mean(vi)))"
   ]
  },
  {
   "cell_type": "code",
   "execution_count": 48,
   "metadata": {},
   "outputs": [
    {
     "data": {
      "text/plain": [
       "[<matplotlib.lines.Line2D at 0x7f469daf4a90>]"
      ]
     },
     "execution_count": 48,
     "metadata": {},
     "output_type": "execute_result"
    },
    {
     "data": {
      "image/png": "[encoded data removed]",
      "text/plain": [
       "<matplotlib.figure.Figure at 0x7f469db27c88>"
      ]
     },
     "metadata": {},
     "output_type": "display_data"
    }
   ],
   "source": [
    "#Uresult2 = Uresult[::-1]\n",
    "plt.plot(Uresult,-depthBin2)\n",
    "#plt.xlim(-0.2,-0.8)"
   ]
  },
  {
   "cell_type": "code",
   "execution_count": 49,
   "metadata": {},
   "outputs": [
    {
     "name": "stderr",
     "output_type": "stream",
     "text": [
      "/home/z3525831/anaconda3/lib/python3.6/site-packages/ipykernel_launcher.py:2: RuntimeWarning: invalid value encountered in sqrt\n",
      "  \n"
     ]
    }
   ],
   "source": [
    "Speed = (Uqc2*Uqc2) + (Vqc2*Vqc2)\n",
    "Speedf = np.sqrt(Speed) "
   ]
  },
  {
   "cell_type": "code",
   "execution_count": 50,
   "metadata": {},
   "outputs": [
    {
     "name": "stdout",
     "output_type": "stream",
     "text": [
      "(10729,)\n",
      "0.39645664869721475\n",
      "(16181,)\n",
      "0.47722314493638796\n",
      "(22200,)\n",
      "0.5582944255502296\n",
      "(25301,)\n",
      "0.5918435673086961\n",
      "(25686,)\n",
      "0.5715315421506919\n",
      "(17763,)\n",
      "0.6760637942090779\n",
      "(12955,)\n",
      "0.708308934712998\n",
      "(6858,)\n",
      "0.7612124977474135\n",
      "(1697,)\n",
      "0.7912989941593331\n"
     ]
    }
   ],
   "source": [
    "Speedfm = [ ]\n",
    "for i in range(20,200,20): \n",
    "   \n",
    "    vi= Speedf [np.where((DepthReal.T > i) & (DepthReal.T < i+10))]  \n",
    "    print(np.shape(vi))\n",
    "    print(np.mean(vi))\n",
    "    #print(np.std(vi)) \n",
    "    Speedfm.append(( np.mean(vi)))"
   ]
  },
  {
   "cell_type": "code",
   "execution_count": 51,
   "metadata": {},
   "outputs": [
    {
     "data": {
      "text/plain": [
       "[<matplotlib.lines.Line2D at 0x7f469dc3a6a0>]"
      ]
     },
     "execution_count": 51,
     "metadata": {},
     "output_type": "execute_result"
    },
    {
     "data": {
      "image/png": "[encoded data removed]",
      "text/plain": [
       "<matplotlib.figure.Figure at 0x7f469da9cf60>"
      ]
     },
     "metadata": {},
     "output_type": "display_data"
    }
   ],
   "source": [
    "Speedfm2 = Speedfm[::-1]\n",
    "plt.plot(Speedfm2,-depthBin2)"
   ]
  },
  {
   "cell_type": "code",
   "execution_count": 52,
   "metadata": {},
   "outputs": [],
   "source": [
    "P = 0.5 * 1025 * 4 * (Speedf*Speedf*Speedf)     \n",
    "Pf = P/1000"
   ]
  },
  {
   "cell_type": "code",
   "execution_count": 53,
   "metadata": {},
   "outputs": [
    {
     "name": "stdout",
     "output_type": "stream",
     "text": [
      "(10729,)\n",
      "0.2842987965380728\n",
      "(16181,)\n",
      "0.4547087742434544\n",
      "(22200,)\n",
      "0.7119801248565353\n",
      "(25301,)\n",
      "0.7741339086478234\n",
      "(25686,)\n",
      "0.6795064876978526\n",
      "(17763,)\n",
      "0.7879074396318883\n",
      "(12955,)\n",
      "0.822427876733592\n",
      "(6858,)\n",
      "0.9706279283624492\n",
      "(1697,)\n",
      "1.0553973552367697\n"
     ]
    }
   ],
   "source": [
    "Pfm = [ ]\n",
    "for i in range(20,200,20):\n",
    "   \n",
    "    vi= Pf[np.where((DepthReal.T > i) & (DepthReal.T < i+10))]  \n",
    "    print(np.shape(vi))\n",
    "    print(np.mean(vi))\n",
    "    #print(np.std(vi)) \n",
    "    Pfm.append(( np.mean(vi)))"
   ]
  },
  {
   "cell_type": "code",
   "execution_count": 54,
   "metadata": {},
   "outputs": [
    {
     "data": {
      "text/plain": [
       "[<matplotlib.lines.Line2D at 0x7f469dd151d0>]"
      ]
     },
     "execution_count": 54,
     "metadata": {},
     "output_type": "execute_result"
    },
    {
     "data": {
      "image/png": "[encoded data removed]",
      "text/plain": [
       "<matplotlib.figure.Figure at 0x7f469dc1b2b0>"
      ]
     },
     "metadata": {},
     "output_type": "display_data"
    }
   ],
   "source": [
    "Pfm2 = Pfm[::-1]\n",
    "plt.plot(Pfm2,-depthBin2)"
   ]
  },
  {
   "cell_type": "code",
   "execution_count": null,
   "metadata": {},
   "outputs": [],
   "source": []
  }
 ],
 "metadata": {
  "kernelspec": {
   "display_name": "Python 3",
   "language": "python",
   "name": "python3"
  },
  "language_info": {
   "codemirror_mode": {
    "name": "ipython",
    "version": 3
   },
   "file_extension": ".py",
   "mimetype": "text/x-python",
   "name": "python",
   "nbconvert_exporter": "python",
   "pygments_lexer": "ipython3",
   "version": "3.6.4"
  }
 },
 "nbformat": 4,
 "nbformat_minor": 2
}
